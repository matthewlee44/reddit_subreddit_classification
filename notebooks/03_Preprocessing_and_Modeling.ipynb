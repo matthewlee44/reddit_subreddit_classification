{
 "cells": [
  {
   "cell_type": "markdown",
   "id": "5fc4ec6c-e85f-4729-a5af-d959e06db448",
   "metadata": {},
   "source": [
    "# Reddit Subreddit Classification\n",
    "## Notebook 3 - Preprocessing and Modeling\n",
    "---"
   ]
  },
  {
   "cell_type": "markdown",
   "id": "4866093c-0c02-47e2-bd04-caf2471795bd",
   "metadata": {},
   "source": [
    "## Imports"
   ]
  },
  {
   "cell_type": "markdown",
   "id": "f754243d-92fb-40f5-bcb6-cf9753741091",
   "metadata": {},
   "source": [
    "### Libraries"
   ]
  },
  {
   "cell_type": "code",
   "execution_count": 1,
   "id": "ab0b8b23-ef36-412d-b174-7633d0e8e423",
   "metadata": {},
   "outputs": [],
   "source": [
    "import os\n",
    "import pandas as pd\n",
    "import numpy as np\n",
    "import matplotlib.pyplot as plt\n",
    "import seaborn as sns\n",
    "\n",
    "from sklearn.model_selection import train_test_split, GridSearchCV\n",
    "from sklearn.preprocessing import StandardScaler, FunctionTransformer\n",
    "from sklearn.pipeline import Pipeline\n",
    "from sklearn.metrics import confusion_matrix, plot_confusion_matrix, classification_report\n",
    "from sklearn.feature_extraction.text import CountVectorizer, TfidfVectorizer\n",
    "from sklearn.feature_extraction import text\n",
    "\n",
    "from sklearn.naive_bayes import MultinomialNB, GaussianNB\n",
    "from sklearn.linear_model import LogisticRegression\n",
    "from sklearn.ensemble import RandomForestClassifier, ExtraTreesClassifier, AdaBoostClassifier, GradientBoostingClassifier, VotingClassifier\n",
    "from sklearn.svm import SVC\n",
    "from sklearn.tree import DecisionTreeClassifier\n",
    "\n",
    "from datetime import datetime\n",
    "pd.options.display.max_colwidth = 200"
   ]
  },
  {
   "cell_type": "markdown",
   "id": "ffef4e3a-43cd-47ac-a227-087e088d21b4",
   "metadata": {},
   "source": [
    "### Data"
   ]
  },
  {
   "cell_type": "code",
   "execution_count": 2,
   "id": "ba33d5cd-b37c-422b-8135-6e0e3fc0d46e",
   "metadata": {},
   "outputs": [],
   "source": [
    "final_df = pd.read_csv(\"../data/final.csv\")"
   ]
  },
  {
   "cell_type": "markdown",
   "id": "39af7acd-651f-41f3-8f32-4c22158769fe",
   "metadata": {},
   "source": [
    "## Preprocessing\n",
    "Based on my EDA, I thought that it was worth trying two different attempts at changing the text data prior to modeling.\n",
    "1. Consolidating words covering certain topics into one word\n",
    "2. Trying additional stop words"
   ]
  },
  {
   "cell_type": "markdown",
   "id": "82530d99-8719-45e6-89c5-854c21bb7ac3",
   "metadata": {},
   "source": [
    "### Consolidating Topic Words"
   ]
  },
  {
   "cell_type": "markdown",
   "id": "29dd80be-0530-4c36-a12d-807da52ff041",
   "metadata": {},
   "source": [
    "To implement the replacement of all words covering certain topics, I created a function that would run regexs composed to capture tokens covering those topics and replacing them with a single word for that topic."
   ]
  },
  {
   "cell_type": "code",
   "execution_count": 3,
   "id": "0b2771ce-58b2-41fc-a999-56dd54d66fe8",
   "metadata": {},
   "outputs": [],
   "source": [
    "# Function to convert all tokens covering a topic into one word\n",
    "def consolidate_topics(X):\n",
    "#    print(\"Running consolidate topics\")\n",
    "    # Regexs for topic words\n",
    "    girl = r\"girl[A-Za-z]*(?![0-9])\"\n",
    "    boy_guy = r\"boy|guy\"\n",
    "    marriage = r\"marr[A-Za-z]*\"\n",
    "    divorce = r\"divo[A-Za-z]*\"\n",
    "    over_forty = r\"\\A[4-7][0-9]\\Z|\\A[4-7][0-9](?!pm|min)[^0-9k]\"\n",
    "    under_forty = r\"\\A[2-3][0-9]\\Z|\\A[2-3][0-9](?!pm|min)[^0-9k]\"\n",
    "    kids = r\"\\Akid[s]?\\Z|kiddo|child|\\Ason[s]?\\Z|daughter|grandkid|grandchild|grandson\"\n",
    "    school = r\"\\Aschool|college|universi\"\n",
    "\n",
    "    # Tokenize per sklearn's regex sequence\n",
    "    X = X.str.findall(r\"(?u)\\b\\w\\w+\\b\").apply(lambda x: \" \".join(x))\n",
    "\n",
    "    # Replace all different variations of topic with one word\n",
    "    X = X.str.replace(girl, \"girl\", regex=True)\n",
    "    X = X.str.replace(boy_guy, \"boy\", regex=True)\n",
    "    X = X.str.replace(marriage, \"marriage\", regex=True)\n",
    "    X = X.str.replace(divorce, \"divorce\", regex=True)\n",
    "    X = X.str.replace(over_forty, \"over_forty\", regex=True)\n",
    "    X = X.str.replace(under_forty, \"under_forty\", regex=True)\n",
    "    X = X.str.replace(kids, \"child\", regex=True)\n",
    "    X = X.str.replace(school, \"school\", regex=True)    \n",
    "    return X"
   ]
  },
  {
   "cell_type": "code",
   "execution_count": 4,
   "id": "5dc6c0b4-82fb-4a81-8680-722801080a25",
   "metadata": {},
   "outputs": [],
   "source": [
    "# Create FunctionTransformer with the consolidate_topics function\n",
    "consolidate_tf = FunctionTransformer(consolidate_topics, validate=False)"
   ]
  },
  {
   "cell_type": "markdown",
   "id": "f154590b-1a88-41ac-af27-3d158189b33f",
   "metadata": {},
   "source": [
    "### Additional Stop Words\n",
    "The stop words below were found during EDA and will be tried out during model gridsearches."
   ]
  },
  {
   "cell_type": "code",
   "execution_count": 5,
   "id": "f374c437-f69f-4a86-b073-b82af8e96385",
   "metadata": {},
   "outputs": [],
   "source": [
    "# Common words found during EDA that may work as stop words\n",
    "add_stop_words = [\"just\", \"like\", \"date\", \"dating\", \"ve\", \"want\", \n",
    "                  \"time\", \"relationship\", \"think\", \"feel\", \"people\", \n",
    "                  \"don\", \"really\", \"know\", \"said\", \"didn\", \"things\",\n",
    "                 \"going\", \"good\", \"person\"]\n",
    "\n",
    "# Adding additional stop words to default stop words in sklearn's text vectorizer\n",
    "new_stop_words = text.ENGLISH_STOP_WORDS.union(add_stop_words)"
   ]
  },
  {
   "cell_type": "markdown",
   "id": "cdf444c7-bc07-47c8-8e4f-fcc8b489fd81",
   "metadata": {
    "tags": []
   },
   "source": [
    "## Modeling\n",
    "I performed all model fitting using cloud computing instead of on my local computer to speed up the process. The following code was exported to a python file and ran using a python console."
   ]
  },
  {
   "cell_type": "markdown",
   "id": "03e6986b-5e2e-40e9-8f7a-4b7e7461719c",
   "metadata": {},
   "source": [
    "### GridSearch Function\n",
    "The following function was used to run grid searches for each model. The function takes in a dictionary of parameters that specifies all the parameters and the model to use for a gridsearch. It then outputs the cv_results_ and the best scores from the gridsearch to the './gridsearch_results' folder as a csv."
   ]
  },
  {
   "cell_type": "code",
   "execution_count": 6,
   "id": "44a64af5-ca02-495c-aa94-8688186c2ae8",
   "metadata": {},
   "outputs": [],
   "source": [
    "def run_gridsearch(X_train, X_test, y_train, y_test, parameters):\n",
    "    # Create empty list to collect pipeline items\n",
    "    pipeline_items = []\n",
    "    \n",
    "    # If parameters says to consolidate topic words, add topic word replacement function into pipeline\n",
    "    if parameters[\"consolidate_text\"]:\n",
    "        pipeline_items.append((\"consolidate\", consolidate_tf))\n",
    "    \n",
    "    # If parameters specifies a vectorizer, add the vectorizer\n",
    "    if parameters['vec']:\n",
    "        pipeline_items.append((\"vec\", parameters['vec']))\n",
    "    \n",
    "    # If parameters says to add StandardScaler, add it\n",
    "    if parameters['ss']:\n",
    "        pipeline_items.append((\"ss\", StandardScaler()))\n",
    "    \n",
    "    # Add estimator specified in parameters\n",
    "    pipeline_items.append((\"estimator\", parameters['estimator']))\n",
    "\n",
    "    # Instantiate pipeline for gridsearch\n",
    "    pipe = Pipeline(pipeline_items)\n",
    "    \n",
    "    # Add hyper-parameters to grid search over from parameters\n",
    "    gridsearch_params = parameters['params']\n",
    "    \n",
    "    # Instantiate GridSearchCV\n",
    "    gs = GridSearchCV(estimator=pipe, param_grid=gridsearch_params, n_jobs=-1, verbose = 4)\n",
    "\n",
    "    # Fit GridSearch\n",
    "    gs.fit(X_train, y_train)\n",
    "\n",
    "    # Write cv_results_ and best scores from grid search to csv\n",
    "    pd.DataFrame(gs.cv_results_).to_csv(f\"./gridsearch_results/{parameters['name']}-{datetime.now()}.csv\", index=False)\n",
    "    pd.DataFrame({\"train\": gs.score(X_train, y_train), \"test\": gs.score(X_test,y_test)}, index=[\"best_scores\"]).to_csv(f\"./gridsearch_results/best_scores_{parameters['name']}-{datetime.now()}.csv\", index=False)\n",
    "    \n",
    "    return gs"
   ]
  },
  {
   "cell_type": "markdown",
   "id": "39309c8e-76ea-4f35-8c80-c4f594a71fea",
   "metadata": {},
   "source": [
    "### X and y"
   ]
  },
  {
   "cell_type": "code",
   "execution_count": 7,
   "id": "9caf0e32-3e82-4c37-874c-7ff3a30faad0",
   "metadata": {},
   "outputs": [],
   "source": [
    "X = final_df[\"alltext\"]\n",
    "y = final_df[\"||__target__||\"]"
   ]
  },
  {
   "cell_type": "markdown",
   "id": "d5fa7531-8e21-47bb-9e8f-6e53ca24ecf6",
   "metadata": {},
   "source": [
    "### Train test split"
   ]
  },
  {
   "cell_type": "code",
   "execution_count": 8,
   "id": "5da74bad-4f69-41d9-94f0-4d86a7390528",
   "metadata": {},
   "outputs": [],
   "source": [
    "X_train, X_test, y_train, y_test = train_test_split(X, y, random_state=42, stratify=y)"
   ]
  },
  {
   "cell_type": "markdown",
   "id": "eead9c6d-97ce-4eb6-8e7b-e715e12ae209",
   "metadata": {},
   "source": [
    "### Model Parameters\n",
    "The following dictionaries set forth the parameters for each of the models I ran using the run_gridsearch function above."
   ]
  },
  {
   "cell_type": "markdown",
   "id": "e7f03c30-45c0-4d70-aba9-b935d60016b9",
   "metadata": {},
   "source": [
    "#### Logistic Regression Models"
   ]
  },
  {
   "cell_type": "code",
   "execution_count": 9,
   "id": "3bac2d93-ae44-4d62-b86e-9f9863a632ff",
   "metadata": {},
   "outputs": [],
   "source": [
    "# Logistic regression model with consolidate text function, and TfidfVectorizer\n",
    "log_reg_con_tf_params = {\n",
    "    \"name\": \"logistic_regression_consolidate_tfidf\",\n",
    "    \"consolidate_text\": True,\n",
    "    \"ss\": False,\n",
    "    \"vec\": TfidfVectorizer(),\n",
    "    \"estimator\": LogisticRegression(solver=\"liblinear\"),\n",
    "    \"params\": {\n",
    "        \"vec__stop_words\": [None, new_stop_words],\n",
    "        \"vec__min_df\": [2],\n",
    "        \"vec__max_features\": [None, 5000],\n",
    "        \"vec__binary\": [False, True],\n",
    "        \"estimator__penalty\": [\"l1\", \"l2\"],\n",
    "        \"estimator__C\": [0.1,1,10],\n",
    "        \"estimator__max_iter\": [10000]\n",
    "    }\n",
    "}\n",
    "\n",
    "# Logistic regression model with consolidate text function and CountVectorizer\n",
    "log_reg_con_count_params = {\n",
    "    \"name\": \"logistic_regression_consolidate_count\",\n",
    "    \"consolidate_text\": True,\n",
    "    \"ss\": False,\n",
    "    \"vec\": CountVectorizer(),\n",
    "    \"estimator\": LogisticRegression(solver=\"liblinear\"),\n",
    "    \"params\": {\n",
    "        \"vec__stop_words\": [None, \"english\", new_stop_words],\n",
    "        \"vec__min_df\": [2, 10],\n",
    "        \"vec__max_features\": [None, 5000],\n",
    "        \"vec__binary\": [False, True],\n",
    "        \"estimator__penalty\": [\"l1\", \"l2\"],\n",
    "        \"estimator__C\": [0.01,0.1,1,10],\n",
    "        \"estimator__max_iter\": [10000]\n",
    "    }\n",
    "}\n",
    "\n",
    "# Logistic regression model without consolidate_text function and with TfidfVectorizer\n",
    "log_reg_tf_params = {\n",
    "    \"name\": \"logistic_regression_tfidf\",\n",
    "    \"consolidate_text\": False,\n",
    "    \"ss\": False,\n",
    "    \"vec\": TfidfVectorizer(),\n",
    "    \"estimator\": LogisticRegression(solver=\"liblinear\"),\n",
    "    \"params\": {\n",
    "        \"vec__stop_words\": [None, new_stop_words],\n",
    "        \"vec__min_df\": [2, 10],\n",
    "        \"vec__max_features\": [None, 5000],\n",
    "        \"vec__binary\": [False, True],\n",
    "        \"estimator__penalty\": [\"l1\", \"l2\"],\n",
    "        \"estimator__C\": [0.01,0.1,1,10],\n",
    "        \"estimator__max_iter\": [10000]\n",
    "    }\n",
    "}\n",
    "\n",
    "# Logistic regression model without consolidate_text function and with CountVectorizer\n",
    "log_reg_count_params = {\n",
    "    \"name\": \"logistic_regression_count\",\n",
    "    \"consolidate_text\": False,\n",
    "    \"ss\": False,\n",
    "    \"vec\": CountVectorizer(),\n",
    "    \"estimator\": LogisticRegression(solver=\"liblinear\"),\n",
    "    \"params\": {\n",
    "        \"vec__stop_words\": [None, new_stop_words],\n",
    "        \"vec__min_df\": [2, 10],\n",
    "        \"vec__max_features\": [None, 5000],\n",
    "        \"vec__binary\": [False, True],\n",
    "        \"estimator__penalty\": [\"l1\", \"l2\"],\n",
    "        \"estimator__C\": [0.01,0.1,1,10],\n",
    "        \"estimator__max_iter\": [10000]\n",
    "    }\n",
    "}"
   ]
  },
  {
   "cell_type": "markdown",
   "id": "0b5dfa30-0e3d-4cf9-bed3-156eec2add05",
   "metadata": {},
   "source": [
    "#### Multinomial Naive Bayes Models"
   ]
  },
  {
   "cell_type": "code",
   "execution_count": 10,
   "id": "5c64a627-e8ea-4f21-a667-45921f1529ae",
   "metadata": {},
   "outputs": [],
   "source": [
    "# Multinomial Naive Bayes model with consolidate_text and TfidfVectorizer\n",
    "mnb_con_tf_params = {\n",
    "    \"name\": \"mnb_consolidate_tfidf\",\n",
    "    \"consolidate_text\": True,\n",
    "    \"ss\": False,\n",
    "    \"vec\": TfidfVectorizer(),\n",
    "    \"estimator\": MultinomialNB(),\n",
    "    \"params\": {\n",
    "        \"vec__stop_words\": [None, \"english\", new_stop_words],\n",
    "        \"vec__min_df\": [1, 2, 5],\n",
    "        \"vec__max_features\": [None, 5000, 10000],\n",
    "        \"vec__binary\": [False, True],\n",
    "        \"estimator__alpha\": [0, 0.1, 0.5, 1]\n",
    "    }\n",
    "}\n",
    "\n",
    "# Multinomial Naive Bayes model with consolidate_text and CountVectorizer\n",
    "mnb_con_count_params = {\n",
    "    \"name\": \"mnb_consolidate_count\",\n",
    "    \"consolidate_text\": True,\n",
    "    \"ss\": False,\n",
    "    \"vec\": CountVectorizer(),\n",
    "    \"estimator\": MultinomialNB(),\n",
    "    \"params\": {\n",
    "        \"vec__stop_words\": [None, \"english\", new_stop_words],\n",
    "        \"vec__min_df\": [1, 2, 5],\n",
    "        \"vec__max_features\": [None, 5000, 10000],\n",
    "        \"vec__binary\": [False, True],\n",
    "        \"estimator__alpha\": [0, 0.1, 0.5, 1]\n",
    "    }\n",
    "}\n",
    "\n",
    "# Multinomial Naive Bayes model without consolidate_text and TfidfVectorizer\n",
    "mnb_tf_params = {\n",
    "    \"name\": \"mnb_tfidf\",\n",
    "    \"consolidate_text\": False,\n",
    "    \"ss\": False,\n",
    "    \"vec\": TfidfVectorizer(),\n",
    "    \"estimator\": MultinomialNB(),\n",
    "    \"params\": {\n",
    "        \"vec__stop_words\": [None, \"english\", new_stop_words],\n",
    "        \"vec__min_df\": [1, 2, 5],\n",
    "        \"vec__max_features\": [None, 5000, 10000],\n",
    "        \"vec__binary\": [False, True],\n",
    "        \"estimator__alpha\": [0, 0.1, 0.5, 1]\n",
    "    }\n",
    "}\n",
    "\n",
    "# Multinomial Naive Bayes model without consolidate_text and CountVectorizer\n",
    "mnb_count_params = {\n",
    "    \"name\": \"mnb_count\",\n",
    "    \"consolidate_text\": False,\n",
    "    \"ss\": False,\n",
    "    \"vec\": CountVectorizer(),\n",
    "    \"estimator\": MultinomialNB(),\n",
    "    \"params\": {\n",
    "        \"vec__stop_words\": [None, \"english\", new_stop_words],\n",
    "        \"vec__min_df\": [1, 2, 5],\n",
    "        \"vec__max_features\": [None, 5000, 10000],\n",
    "        \"vec__binary\": [False, True],\n",
    "        \"estimator__alpha\": [0, 0.1, 0.5, 1]\n",
    "    }\n",
    "}"
   ]
  },
  {
   "cell_type": "markdown",
   "id": "1389a1e4-2202-45f9-8594-1f64b7bd6dac",
   "metadata": {},
   "source": [
    "#### Random Forest Classifier Models"
   ]
  },
  {
   "cell_type": "code",
   "execution_count": 11,
   "id": "b57a373b-6486-41df-88a4-6b39a50bf957",
   "metadata": {},
   "outputs": [],
   "source": [
    "# Random Forest Classifer Model with consolidate_text and TfidfVectorizer\n",
    "rf_params = {\n",
    "    \"name\": \"rf\",\n",
    "    \"consolidate_text\": True,\n",
    "    \"ss\": False,\n",
    "    \"vec\": TfidfVectorizer(),\n",
    "    \"estimator\": RandomForestClassifier(random_state=42),\n",
    "    \"params\": {\n",
    "        \"vec__stop_words\": [None, new_stop_words],\n",
    "        \"vec__min_df\": [2, 5],\n",
    "        \"vec__max_features\": [None, 5000],\n",
    "        \"vec__binary\": [False, True],\n",
    "        \"estimator__n_estimators\": [50, 150],\n",
    "        \"estimator__max_depth\": [None, 5, 9],\n",
    "        \"estimator__min_samples_leaf\": [3, 7]\n",
    "    }\n",
    "}"
   ]
  },
  {
   "cell_type": "markdown",
   "id": "9f730d44-0c18-4c1a-a048-4925bfbfff38",
   "metadata": {},
   "source": [
    "#### Ada Boost Classifier Models"
   ]
  },
  {
   "cell_type": "code",
   "execution_count": 12,
   "id": "e44d7711-8e3c-45fc-a25a-8475573d4d3f",
   "metadata": {},
   "outputs": [],
   "source": [
    "# Ada Boost Classifier with consolidate_text and TfidfVectorizer\n",
    "ada_params = {\n",
    "    \"name\": \"ada\",\n",
    "    \"consolidate_text\": True,\n",
    "    \"ss\": False,\n",
    "    \"vec\": TfidfVectorizer(),\n",
    "    \"estimator\": AdaBoostClassifier(base_estimator=DecisionTreeClassifier(), random_state=42),\n",
    "    \"params\": {\n",
    "        \"vec__stop_words\": [None, new_stop_words],\n",
    "        \"vec__min_df\": [2, 5],\n",
    "        \"vec__max_features\": [None, 5000],\n",
    "        \"vec__binary\": [False, True],\n",
    "        \"estimator__n_estimators\": [50, 150, 250],\n",
    "        \"estimator__base_estimator__max_depth\": [None, 5, 9],\n",
    "        \"estimator__base_estimator__min_samples_leaf\": [1, 3, 7]\n",
    "    }\n",
    "}"
   ]
  },
  {
   "cell_type": "markdown",
   "id": "70c1ef8c-ff87-487f-b94c-a281722fde4d",
   "metadata": {},
   "source": [
    "#### Support Vector Machine Models"
   ]
  },
  {
   "cell_type": "markdown",
   "id": "87d02b7e-4aa3-4055-b04a-055181854219",
   "metadata": {},
   "source": [
    "Because the support vector machine classifier requires scaled data, the text vectorized by TfidfVectorizer needed to be converted from a sparse matrix into a dense matrix before running it through Standard Scaler. The following function addresses that issue."
   ]
  },
  {
   "cell_type": "code",
   "execution_count": 13,
   "id": "334461c5-5c76-4911-9fbe-b8d6b6e11f39",
   "metadata": {},
   "outputs": [],
   "source": [
    "# Function to vectorize text data before scaling\n",
    "def vectorize_text(X):\n",
    "    # Create copy of X\n",
    "    df_copy = X.copy()\n",
    "    \n",
    "    # Run consolidate topics function\n",
    "    df_copy = consolidate_topics(df_copy)\n",
    "    \n",
    "    # Instantiate TfidfVectorizer with \n",
    "    vec = TfidfVectorizer(\n",
    "            stop_words = new_stop_words,\n",
    "            max_features = None,\n",
    "            ngram_range = (1,1),\n",
    "            min_df = 2,\n",
    "        )\n",
    "\n",
    "    \n",
    "    df_vec_sparse = vec.fit_transform(df_copy)\n",
    "    df_vec = pd.DataFrame(df_vec_sparse.todense(), columns=vec.get_feature_names())\n",
    "    return df_vec"
   ]
  },
  {
   "cell_type": "markdown",
   "id": "fd17d92f-a926-46d6-8806-5f98646921c8",
   "metadata": {},
   "source": [
    "##### SVM X and y"
   ]
  },
  {
   "cell_type": "code",
   "execution_count": 14,
   "id": "ff0a1889-8261-47a8-ac69-cae423e771ed",
   "metadata": {},
   "outputs": [
    {
     "name": "stderr",
     "output_type": "stream",
     "text": [
      "/opt/anaconda3/lib/python3.9/site-packages/sklearn/utils/deprecation.py:87: FutureWarning: Function get_feature_names is deprecated; get_feature_names is deprecated in 1.0 and will be removed in 1.2. Please use get_feature_names_out instead.\n",
      "  warnings.warn(msg, category=FutureWarning)\n"
     ]
    }
   ],
   "source": [
    "# Declare X and y for SVM model\n",
    "X_svm = vectorize_text(final_df[\"alltext\"])\n",
    "y_svm = final_df[\"||__target__||\"]"
   ]
  },
  {
   "cell_type": "markdown",
   "id": "6795c927-b0eb-468a-b59e-69af7a65da6b",
   "metadata": {},
   "source": [
    "##### Train test split for SVM"
   ]
  },
  {
   "cell_type": "code",
   "execution_count": 15,
   "id": "aa7aabf5-75bd-4d8e-80de-884a9b44ec8d",
   "metadata": {},
   "outputs": [],
   "source": [
    "# Train test split for SVM data\n",
    "X_svm_train, X_svm_test, y_svm_train, y_svm_test = train_test_split(X_svm, y_svm, random_state=42, stratify=y)"
   ]
  },
  {
   "cell_type": "code",
   "execution_count": 16,
   "id": "c3f82af0-96f3-4490-a14e-b0c2e40390f9",
   "metadata": {},
   "outputs": [],
   "source": [
    "# SVM Classifier Parameters for run_gridsearch function\n",
    "\n",
    "svm_params = {\n",
    "    \"name\": \"svm\",\n",
    "    \"consolidate_text\": False,\n",
    "    \"ss\": True,\n",
    "    \"vec\": False,\n",
    "    \"estimator\": SVC(),\n",
    "    \"params\": {\n",
    "        \"estimator__C\": [1, 10],\n",
    "        \"estimator__kernel\": [\"rbf\"],\n",
    "#        \"estimator__degree\": [2, 3],\n",
    "        \"estimator__gamma\": [\"scale\", \"auto\"]\n",
    "    }\n",
    "}"
   ]
  },
  {
   "cell_type": "markdown",
   "id": "a7187a38-309e-4f5b-afb2-dc631bd153f9",
   "metadata": {},
   "source": [
    "## Conclusion and Recommendations"
   ]
  },
  {
   "cell_type": "markdown",
   "id": "db6ec953-a8eb-4170-8f98-6d1ba1e34a0e",
   "metadata": {},
   "source": [
    "### Model Evaluation"
   ]
  },
  {
   "cell_type": "markdown",
   "id": "e419aaf7-38e0-46eb-a6e2-50498dcaf806",
   "metadata": {},
   "source": [
    "#### Baseline Accuracy Score\n",
    "The baseline accuracy score to compare our model against is shown below by showing the percentage of the observations in our dataset that are classified as class 1."
   ]
  },
  {
   "cell_type": "code",
   "execution_count": 17,
   "id": "e62d7b74-f3d5-4739-9fbb-2b9052ba3000",
   "metadata": {},
   "outputs": [
    {
     "data": {
      "text/plain": [
       "0    0.5\n",
       "1    0.5\n",
       "Name: ||__target__||, dtype: float64"
      ]
     },
     "execution_count": 17,
     "metadata": {},
     "output_type": "execute_result"
    }
   ],
   "source": [
    "final_df[\"||__target__||\"].value_counts(normalize=True)"
   ]
  },
  {
   "cell_type": "markdown",
   "id": "008303b9-70be-490b-a90e-7bd460f0c479",
   "metadata": {},
   "source": [
    "Because we balanced the classes during the import and cleaning of our data at the start, we have a baseline accuracy score of 50%."
   ]
  },
  {
   "cell_type": "markdown",
   "id": "bb6599c8-eee2-4720-8d9a-edc004896c68",
   "metadata": {},
   "source": [
    "#### Best Model on Accuracy\n",
    "Of all the models tested through our grid searches, it appears that the logistic regression and Multinomial Naive Bayes classifier models performed the best. Although overfit, they achieved the best accuracy scores on our test set."
   ]
  },
  {
   "cell_type": "code",
   "execution_count": 18,
   "id": "6d377f7e-bb01-4cfb-8163-4c26f222892e",
   "metadata": {},
   "outputs": [],
   "source": [
    "# Extract scores written to CSV during gridsearches\n",
    "# Filenames of the CSVs correspond with the model and set of parameters used for the gridsearch during which the CSV was written\n",
    "\n",
    "best_scores = []\n",
    "for file in os.listdir(\"../gridsearch_results\"):\n",
    "    if file.split(\"_\")[0] == \"best\":\n",
    "        before_timestamp = file.split(\"-\")[0]\n",
    "        df = pd.read_csv(f'../gridsearch_results/{file}')\n",
    "        df['gridsearch'] = before_timestamp.split(\"_\", 2)[-1]\n",
    "        best_scores.append(df)\n",
    "all_scores = pd.concat(best_scores).reset_index(drop=True)"
   ]
  },
  {
   "cell_type": "code",
   "execution_count": 19,
   "id": "94e64406-f05f-4a9d-b22f-1143c6ec5250",
   "metadata": {},
   "outputs": [
    {
     "data": {
      "text/html": [
       "<div>\n",
       "<style scoped>\n",
       "    .dataframe tbody tr th:only-of-type {\n",
       "        vertical-align: middle;\n",
       "    }\n",
       "\n",
       "    .dataframe tbody tr th {\n",
       "        vertical-align: top;\n",
       "    }\n",
       "\n",
       "    .dataframe thead th {\n",
       "        text-align: right;\n",
       "    }\n",
       "</style>\n",
       "<table border=\"1\" class=\"dataframe\">\n",
       "  <thead>\n",
       "    <tr style=\"text-align: right;\">\n",
       "      <th></th>\n",
       "      <th>gridsearch</th>\n",
       "      <th>train</th>\n",
       "      <th>test</th>\n",
       "    </tr>\n",
       "  </thead>\n",
       "  <tbody>\n",
       "    <tr>\n",
       "      <th>2</th>\n",
       "      <td>logistic_regression_consolidate_tfidf</td>\n",
       "      <td>0.909395</td>\n",
       "      <td>0.820244</td>\n",
       "    </tr>\n",
       "    <tr>\n",
       "      <th>0</th>\n",
       "      <td>logistic_regression_tfidf</td>\n",
       "      <td>0.911576</td>\n",
       "      <td>0.818499</td>\n",
       "    </tr>\n",
       "    <tr>\n",
       "      <th>3</th>\n",
       "      <td>logistic_regression_count</td>\n",
       "      <td>0.918994</td>\n",
       "      <td>0.811518</td>\n",
       "    </tr>\n",
       "    <tr>\n",
       "      <th>5</th>\n",
       "      <td>logistic_regression_consolidate_count</td>\n",
       "      <td>0.918557</td>\n",
       "      <td>0.810209</td>\n",
       "    </tr>\n",
       "    <tr>\n",
       "      <th>1</th>\n",
       "      <td>mnb_count</td>\n",
       "      <td>0.866492</td>\n",
       "      <td>0.806283</td>\n",
       "    </tr>\n",
       "    <tr>\n",
       "      <th>4</th>\n",
       "      <td>mnb_consolidate_count</td>\n",
       "      <td>0.863583</td>\n",
       "      <td>0.805846</td>\n",
       "    </tr>\n",
       "    <tr>\n",
       "      <th>7</th>\n",
       "      <td>mnb_tfidf</td>\n",
       "      <td>0.880454</td>\n",
       "      <td>0.800175</td>\n",
       "    </tr>\n",
       "    <tr>\n",
       "      <th>8</th>\n",
       "      <td>rf</td>\n",
       "      <td>0.895870</td>\n",
       "      <td>0.799738</td>\n",
       "    </tr>\n",
       "    <tr>\n",
       "      <th>9</th>\n",
       "      <td>mnb_consolidate_tfidf</td>\n",
       "      <td>0.879290</td>\n",
       "      <td>0.799738</td>\n",
       "    </tr>\n",
       "    <tr>\n",
       "      <th>10</th>\n",
       "      <td>ada</td>\n",
       "      <td>0.999709</td>\n",
       "      <td>0.745201</td>\n",
       "    </tr>\n",
       "    <tr>\n",
       "      <th>6</th>\n",
       "      <td>svm</td>\n",
       "      <td>0.982403</td>\n",
       "      <td>0.696771</td>\n",
       "    </tr>\n",
       "  </tbody>\n",
       "</table>\n",
       "</div>"
      ],
      "text/plain": [
       "                               gridsearch     train      test\n",
       "2   logistic_regression_consolidate_tfidf  0.909395  0.820244\n",
       "0               logistic_regression_tfidf  0.911576  0.818499\n",
       "3               logistic_regression_count  0.918994  0.811518\n",
       "5   logistic_regression_consolidate_count  0.918557  0.810209\n",
       "1                               mnb_count  0.866492  0.806283\n",
       "4                   mnb_consolidate_count  0.863583  0.805846\n",
       "7                               mnb_tfidf  0.880454  0.800175\n",
       "8                                      rf  0.895870  0.799738\n",
       "9                   mnb_consolidate_tfidf  0.879290  0.799738\n",
       "10                                    ada  0.999709  0.745201\n",
       "6                                     svm  0.982403  0.696771"
      ]
     },
     "execution_count": 19,
     "metadata": {},
     "output_type": "execute_result"
    }
   ],
   "source": [
    "# Show best scores achieved by each gridsearch sorted by scores on the test set\n",
    "all_scores[[\"gridsearch\", \"train\", \"test\"]].sort_values(by=\"test\", ascending=False)"
   ]
  },
  {
   "cell_type": "markdown",
   "id": "3e12852b-1b18-4d09-9da4-858a1ec0be68",
   "metadata": {},
   "source": [
    "Among these, I believe the Logistic Regression model using our consolidate text function and a TfidfVectorizer is our best model as it achieved the best score on our test set -- 82.02%. I believe this means that this model is the most likely to generalize well and achieve similar accuracy results in classifying new posts from the subreddits."
   ]
  },
  {
   "cell_type": "markdown",
   "id": "b731489f-6f8d-47ac-9237-98d1723cfd8e",
   "metadata": {},
   "source": [
    "#### Other Metrics"
   ]
  },
  {
   "cell_type": "markdown",
   "id": "a2f43d0a-9950-489c-baf1-3b5386e3de1e",
   "metadata": {},
   "source": [
    "Our best model also achieves similar scores on other evaluation metrics:\n",
    "\n",
    "1. Weighted avg precision: 82%\n",
    "2. Weighted avg recall: 82%\n",
    "3. F1 score: 82%\n",
    "\n",
    "The code for evaluating our model on these metrics is provided below."
   ]
  },
  {
   "cell_type": "code",
   "execution_count": null,
   "id": "cdaa8cca-cd0c-42e9-854a-d6cabba886b4",
   "metadata": {},
   "outputs": [],
   "source": [
    "# Instantiate pipe\n",
    "pipe_best_model = Pipeline([\n",
    "    (\"consolidate\", consolidate_tf),\n",
    "    (\"vec\", TfidfVectorizer()),\n",
    "    (\"estimator\", LogisticRegression(solver='liblinear'))\n",
    "])\n",
    "\n",
    "gs_params_best_model = {\n",
    "    \"vec__stop_words\": [None, new_stop_words],\n",
    "    \"vec__min_df\": [2, 5],\n",
    "    \"vec__max_features\": [None, 5000],\n",
    "    \"vec__binary\": [False, True],\n",
    "    \"estimator__penalty\": [\"l1\", \"l2\"],\n",
    "    \"estimator__C\": [0.1,1,10],\n",
    "    \"estimator__max_iter\": [10000]\n",
    "}\n",
    "\n",
    "# Instantiate GridSearchCV\n",
    "gs = GridSearchCV(estimator=pipe_best_model, param_grid=gs_params_best_model, n_jobs=-1)\n",
    "\n",
    "# Fit GridSearch\n",
    "gs.fit(X_train, y_train)"
   ]
  },
  {
   "cell_type": "code",
   "execution_count": null,
   "id": "e8ad4803-9ecb-4fe2-b20e-18422c74d8d4",
   "metadata": {},
   "outputs": [],
   "source": [
    "final_model = gs"
   ]
  },
  {
   "cell_type": "code",
   "execution_count": 252,
   "id": "2a8ea64f-a45f-40ba-9cca-dde21e276095",
   "metadata": {},
   "outputs": [
    {
     "name": "stderr",
     "output_type": "stream",
     "text": [
      "/opt/anaconda3/lib/python3.9/site-packages/sklearn/utils/deprecation.py:87: FutureWarning: Function plot_confusion_matrix is deprecated; Function `plot_confusion_matrix` is deprecated in 1.0 and will be removed in 1.2. Use one of the class methods: ConfusionMatrixDisplay.from_predictions or ConfusionMatrixDisplay.from_estimator.\n",
      "  warnings.warn(msg, category=FutureWarning)\n"
     ]
    },
    {
     "name": "stdout",
     "output_type": "stream",
     "text": [
      "Running consolidate topics\n"
     ]
    },
    {
     "data": {
      "image/png": "[encoded data removed]",
      "text/plain": [
       "<Figure size 432x288 with 2 Axes>"
      ]
     },
     "metadata": {
      "needs_background": "light"
     },
     "output_type": "display_data"
    }
   ],
   "source": [
    "# Plot confusion matrix\n",
    "plot_confusion_matrix(final_model, X_test, y_test);"
   ]
  },
  {
   "cell_type": "code",
   "execution_count": 253,
   "id": "fa0f3ac0-5cce-4b87-be28-e58027530b91",
   "metadata": {},
   "outputs": [
    {
     "name": "stdout",
     "output_type": "stream",
     "text": [
      "Running consolidate topics\n",
      "              precision    recall  f1-score   support\n",
      "\n",
      "           0       0.84      0.79      0.82      1146\n",
      "           1       0.80      0.85      0.82      1146\n",
      "\n",
      "    accuracy                           0.82      2292\n",
      "   macro avg       0.82      0.82      0.82      2292\n",
      "weighted avg       0.82      0.82      0.82      2292\n",
      "\n"
     ]
    }
   ],
   "source": [
    "# Create predictions on test set\n",
    "predictions_test = final_model.predict(X_test)\n",
    "\n",
    "# Print classification report\n",
    "print(classification_report(y_test, predictions_test));"
   ]
  },
  {
   "cell_type": "markdown",
   "id": "b1023ff6-26fd-455e-b42a-d974326b95c4",
   "metadata": {},
   "source": [
    "### Recommendations"
   ]
  },
  {
   "cell_type": "markdown",
   "id": "e5463989-1595-4459-8883-438c1fbd3faa",
   "metadata": {},
   "source": [
    "To improve upon the accuracy of this model, I would recommend exploring the following next steps:\n",
    "1. Adding more features about the text\n",
    "    - Sentiment analysis on each post\n",
    "    - Counts of the number of words and sentences used in each post\n",
    "2. Exploring other natural language processing strategies to differentiate the subreddits further"
   ]
  }
 ],
 "metadata": {
  "kernelspec": {
   "display_name": "Python 3 (ipykernel)",
   "language": "python",
   "name": "python3"
  },
  "language_info": {
   "codemirror_mode": {
    "name": "ipython",
    "version": 3
   },
   "file_extension": ".py",
   "mimetype": "text/x-python",
   "name": "python",
   "nbconvert_exporter": "python",
   "pygments_lexer": "ipython3",
   "version": "3.9.7"
  }
 },
 "nbformat": 4,
 "nbformat_minor": 5
}
