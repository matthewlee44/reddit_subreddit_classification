{
 "cells": [
  {
   "cell_type": "code",
   "execution_count": 6,
   "id": "ab0b8b23-ef36-412d-b174-7633d0e8e423",
   "metadata": {},
   "outputs": [],
   "source": [
    "import os\n",
    "import pandas as pd\n",
    "import numpy as np\n",
    "import matplotlib.pyplot as plt\n",
    "import seaborn as sns\n",
    "\n",
    "from sklearn.model_selection import train_test_split, GridSearchCV\n",
    "from sklearn.preprocessing import StandardScaler\n",
    "from sklearn.pipeline import Pipeline\n",
    "from sklearn.metrics import confusion_matrix, plot_confusion_matrix\n",
    "\n",
    "from sklearn.naive_bayes import MultinomialNB, GaussianNB\n",
    "from sklearn.linear_model import LogisticRegression\n",
    "from sklearn.ensemble import RandomForestClassifier, ExtraTreesClassifier, AdaBoostClassifier, GradientBoostingClassifier, VotingClassifier\n",
    "from sklearn.svm import SVC\n",
    "from sklearn.tree import DecisionTreeClassifier\n",
    "\n",
    "import utilities.graph as graph\n",
    "\n",
    "pd.options.display.max_colwidth = 200\n"
   ]
  },
  {
   "cell_type": "code",
   "execution_count": 2,
   "id": "ba33d5cd-b37c-422b-8135-6e0e3fc0d46e",
   "metadata": {},
   "outputs": [],
   "source": [
    "final_df = pd.read_csv(\"./data/final_processed.csv\")"
   ]
  },
  {
   "cell_type": "code",
   "execution_count": 4,
   "id": "00493ffc-aadd-45f3-b120-e15c596f445f",
   "metadata": {},
   "outputs": [],
   "source": [
    "X = final_df.drop(columns=[\"||__target__||\"])\n",
    "y = final_df[\"||__target__||\"]"
   ]
  },
  {
   "cell_type": "code",
   "execution_count": 5,
   "id": "98953abd-5f4d-458f-84ed-b2c0a1a9764e",
   "metadata": {},
   "outputs": [],
   "source": [
    "X_train, X_test, y_train, y_test = train_test_split(X, y, random_state=42, stratify=y)"
   ]
  },
  {
   "cell_type": "code",
   "execution_count": 8,
   "id": "1c355dc3-b4e7-47f2-b090-22afc296b4a9",
   "metadata": {},
   "outputs": [],
   "source": [
    "svc_pipe = Pipeline([\n",
    "    (\"svc_ss\", StandardScaler()),\n",
    "    (\"svc\", SVC()),\n",
    "])\n",
    "\n",
    "vote = VotingClassifier([\n",
    "    (\"rtree\", RandomForestClassifier()),\n",
    "    (\"etree\", ExtraTreesClassifier()),\n",
    "    (\"ada\", AdaBoostClassifier(base_estimator=DecisionTreeClassifier())),\n",
    "    (\"gradbc\", GradientBoostingClassifier()),\n",
    "    (\"svm\", svc_pipe)\n",
    "])\n",
    "\n",
    "params = {\n",
    "    \"weights\": [\n",
    "        [1,0,0,0,0],\n",
    "        [0,1,0,0,0],\n",
    "        [0,0,1,0,0],\n",
    "        [0,0,0,1,0],\n",
    "        [0,0,0,0,1],\n",
    "    ],\n",
    "    \"rtree__max_depth\": [1],\n",
    "    \"etree__max_depth\": [1],\n",
    "    \"ada__base_estimator__max_depth\": [1],\n",
    "#    \"svm\"   \n",
    "}\n",
    "\n",
    "gs = GridSearchCV(vote, params)"
   ]
  },
  {
   "cell_type": "code",
   "execution_count": null,
   "id": "04ef27ba-df0f-40a8-a7f0-53cf9dc44b6b",
   "metadata": {},
   "outputs": [],
   "source": [
    "gs.fit(X_train, y_train)"
   ]
  },
  {
   "cell_type": "code",
   "execution_count": null,
   "id": "0bc00cbc-ddbf-4a22-90d6-aadf1cf141a7",
   "metadata": {},
   "outputs": [],
   "source": []
  }
 ],
 "metadata": {
  "kernelspec": {
   "display_name": "Python 3 (ipykernel)",
   "language": "python",
   "name": "python3"
  },
  "language_info": {
   "codemirror_mode": {
    "name": "ipython",
    "version": 3
   },
   "file_extension": ".py",
   "mimetype": "text/x-python",
   "name": "python",
   "nbconvert_exporter": "python",
   "pygments_lexer": "ipython3",
   "version": "3.9.7"
  }
 },
 "nbformat": 4,
 "nbformat_minor": 5
}
